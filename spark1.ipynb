{
 "cells": [
  {
   "cell_type": "code",
   "execution_count": 18,
   "metadata": {},
   "outputs": [],
   "source": [
    "from pyspark.sql import SparkSession\n",
    "spark=SparkSession.builder.appName('sample').getOrCreate()"
   ]
  },
  {
   "cell_type": "code",
   "execution_count": 19,
   "metadata": {},
   "outputs": [],
   "source": [
    "df=spark.read.csv(\"C:/Users/anil.nagamunthala/Documents/simple.csv\")"
   ]
  },
  {
   "cell_type": "code",
   "execution_count": 20,
   "metadata": {},
   "outputs": [
    {
     "name": "stdout",
     "output_type": "stream",
     "text": [
      "+--------+---+------+\n",
      "|     _c0|_c1|   _c2|\n",
      "+--------+---+------+\n",
      "|    NAME|AGE|salary|\n",
      "|simhadri| 22|400000|\n",
      "|  sriram| 21|500000|\n",
      "|  sravya| 28|300000|\n",
      "|  chandu| 30|500000|\n",
      "|  chakri|  3|600000|\n",
      "+--------+---+------+\n",
      "\n"
     ]
    }
   ],
   "source": [
    "df.show()"
   ]
  },
  {
   "cell_type": "code",
   "execution_count": 21,
   "metadata": {},
   "outputs": [
    {
     "name": "stdout",
     "output_type": "stream",
     "text": [
      "root\n",
      " |-- _c0: string (nullable = true)\n",
      " |-- _c1: string (nullable = true)\n",
      " |-- _c2: string (nullable = true)\n",
      "\n"
     ]
    }
   ],
   "source": [
    "df.printSchema()"
   ]
  },
  {
   "cell_type": "code",
   "execution_count": 22,
   "metadata": {},
   "outputs": [
    {
     "name": "stdout",
     "output_type": "stream",
     "text": [
      "+--------+---+------+\n",
      "|    NAME|AGE|salary|\n",
      "+--------+---+------+\n",
      "|simhadri| 22|400000|\n",
      "|  sriram| 21|500000|\n",
      "|  sravya| 28|300000|\n",
      "|  chandu| 30|500000|\n",
      "|  chakri|  3|600000|\n",
      "+--------+---+------+\n",
      "\n"
     ]
    }
   ],
   "source": [
    "df=spark.read.csv(\"C:/Users/anil.nagamunthala/Documents/simple.csv\",header=True,inferSchema=True)\n",
    "df.show()"
   ]
  },
  {
   "cell_type": "code",
   "execution_count": 23,
   "metadata": {},
   "outputs": [
    {
     "name": "stdout",
     "output_type": "stream",
     "text": [
      "root\n",
      " |-- NAME: string (nullable = true)\n",
      " |-- AGE: integer (nullable = true)\n",
      " |-- salary: integer (nullable = true)\n",
      "\n"
     ]
    }
   ],
   "source": [
    "df.printSchema()"
   ]
  },
  {
   "cell_type": "markdown",
   "metadata": {},
   "source": [
    "# retreiving the data"
   ]
  },
  {
   "cell_type": "code",
   "execution_count": 24,
   "metadata": {},
   "outputs": [
    {
     "data": {
      "text/plain": [
       "Row(NAME='simhadri', AGE=22, salary=400000)"
      ]
     },
     "execution_count": 24,
     "metadata": {},
     "output_type": "execute_result"
    }
   ],
   "source": [
    "df.head()"
   ]
  },
  {
   "cell_type": "code",
   "execution_count": 25,
   "metadata": {},
   "outputs": [
    {
     "data": {
      "text/plain": [
       "[Row(NAME='simhadri', AGE=22, salary=400000),\n",
       " Row(NAME='sriram', AGE=21, salary=500000),\n",
       " Row(NAME='sravya', AGE=28, salary=300000),\n",
       " Row(NAME='chandu', AGE=30, salary=500000),\n",
       " Row(NAME='chakri', AGE=3, salary=600000)]"
      ]
     },
     "execution_count": 25,
     "metadata": {},
     "output_type": "execute_result"
    }
   ],
   "source": [
    "df.head(10)"
   ]
  },
  {
   "cell_type": "code",
   "execution_count": 26,
   "metadata": {},
   "outputs": [
    {
     "name": "stdout",
     "output_type": "stream",
     "text": [
      "+--------+\n",
      "|    NAME|\n",
      "+--------+\n",
      "|simhadri|\n",
      "|  sriram|\n",
      "|  sravya|\n",
      "|  chandu|\n",
      "|  chakri|\n",
      "+--------+\n",
      "\n"
     ]
    }
   ],
   "source": [
    "df.select(['NAME']).show()"
   ]
  },
  {
   "cell_type": "code",
   "execution_count": 27,
   "metadata": {},
   "outputs": [
    {
     "name": "stdout",
     "output_type": "stream",
     "text": [
      "+--------+---+\n",
      "|    NAME|AGE|\n",
      "+--------+---+\n",
      "|simhadri| 22|\n",
      "|  sriram| 21|\n",
      "|  sravya| 28|\n",
      "|  chandu| 30|\n",
      "|  chakri|  3|\n",
      "+--------+---+\n",
      "\n"
     ]
    }
   ],
   "source": [
    "df.select(['NAME','AGE']).show()"
   ]
  },
  {
   "cell_type": "markdown",
   "metadata": {},
   "source": [
    "### adding columns"
   ]
  },
  {
   "cell_type": "code",
   "execution_count": 33,
   "metadata": {},
   "outputs": [
    {
     "name": "stdout",
     "output_type": "stream",
     "text": [
      "+--------+---+------+-------+\n",
      "|    NAME|AGE|salary| newcol|\n",
      "+--------+---+------+-------+\n",
      "|simhadri| 22|400000| 800000|\n",
      "|  sriram| 21|500000|1000000|\n",
      "|  sravya| 28|300000| 600000|\n",
      "|  chandu| 30|500000|1000000|\n",
      "|  chakri|  3|600000|1200000|\n",
      "+--------+---+------+-------+\n",
      "\n"
     ]
    }
   ],
   "source": [
    "df1=df.withColumn('newcol',df['salary']*2)\n",
    "df1.show()"
   ]
  },
  {
   "cell_type": "code",
   "execution_count": 35,
   "metadata": {},
   "outputs": [
    {
     "name": "stdout",
     "output_type": "stream",
     "text": [
      "+--------+---+------+------------+\n",
      "|    NAME|AGE|salary|salry_double|\n",
      "+--------+---+------+------------+\n",
      "|simhadri| 22|400000|      800000|\n",
      "|  sriram| 21|500000|     1000000|\n",
      "|  sravya| 28|300000|      600000|\n",
      "|  chandu| 30|500000|     1000000|\n",
      "|  chakri|  3|600000|     1200000|\n",
      "+--------+---+------+------------+\n",
      "\n"
     ]
    }
   ],
   "source": [
    "df1=df1.withColumnRenamed('newcol','salry_double')\n",
    "df1.show()"
   ]
  },
  {
   "cell_type": "code",
   "execution_count": 39,
   "metadata": {},
   "outputs": [
    {
     "name": "stdout",
     "output_type": "stream",
     "text": [
      "+--------+---+------+\n",
      "|    NAME|AGE|salary|\n",
      "+--------+---+------+\n",
      "|simhadri| 22|400000|\n",
      "|  sriram| 21|500000|\n",
      "|  sravya| 28|300000|\n",
      "|  chandu| 30|500000|\n",
      "|  chakri|  3|600000|\n",
      "+--------+---+------+\n",
      "\n"
     ]
    }
   ],
   "source": [
    "#column removing\n",
    "df1=df1.drop('salry_double')\n",
    "df1.show()"
   ]
  },
  {
   "cell_type": "markdown",
   "metadata": {},
   "source": [
    "Summary"
   ]
  },
  {
   "cell_type": "code",
   "execution_count": 44,
   "metadata": {},
   "outputs": [
    {
     "name": "stdout",
     "output_type": "stream",
     "text": [
      "root\n",
      " |-- NAME: string (nullable = true)\n",
      " |-- AGE: integer (nullable = true)\n",
      " |-- salary: integer (nullable = true)\n",
      "\n"
     ]
    }
   ],
   "source": [
    "df1.printSchema()"
   ]
  },
  {
   "cell_type": "code",
   "execution_count": 47,
   "metadata": {},
   "outputs": [
    {
     "data": {
      "text/plain": [
       "DataFrame[summary: string, NAME: string, AGE: string, salary: string]"
      ]
     },
     "execution_count": 47,
     "metadata": {},
     "output_type": "execute_result"
    }
   ],
   "source": [
    "df1.summary()"
   ]
  },
  {
   "cell_type": "code",
   "execution_count": 49,
   "metadata": {},
   "outputs": [
    {
     "name": "stdout",
     "output_type": "stream",
     "text": [
      "+-------+------+-----------------+-----------------+\n",
      "|summary|  NAME|              AGE|           salary|\n",
      "+-------+------+-----------------+-----------------+\n",
      "|  count|     5|                5|                5|\n",
      "|   mean|  NULL|             20.8|         460000.0|\n",
      "| stddev|  NULL|10.66302021005306|114017.5425099138|\n",
      "|    min|chakri|                3|           300000|\n",
      "|    max|sriram|               30|           600000|\n",
      "+-------+------+-----------------+-----------------+\n",
      "\n"
     ]
    }
   ],
   "source": [
    "df1.describe().show()"
   ]
  },
  {
   "cell_type": "code",
   "execution_count": null,
   "metadata": {},
   "outputs": [],
   "source": []
  },
  {
   "cell_type": "code",
   "execution_count": null,
   "metadata": {},
   "outputs": [],
   "source": []
  }
 ],
 "metadata": {
  "kernelspec": {
   "display_name": "spark",
   "language": "python",
   "name": "python3"
  },
  "language_info": {
   "codemirror_mode": {
    "name": "ipython",
    "version": 3
   },
   "file_extension": ".py",
   "mimetype": "text/x-python",
   "name": "python",
   "nbconvert_exporter": "python",
   "pygments_lexer": "ipython3",
   "version": "3.12.0"
  }
 },
 "nbformat": 4,
 "nbformat_minor": 2
}
