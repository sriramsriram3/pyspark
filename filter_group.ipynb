{
 "cells": [
  {
   "cell_type": "code",
   "execution_count": 1,
   "metadata": {},
   "outputs": [],
   "source": [
    "from pyspark.sql import SparkSession\n",
    "spark=SparkSession.builder.appName('simple').getOrCreate()"
   ]
  },
  {
   "cell_type": "code",
   "execution_count": 2,
   "metadata": {},
   "outputs": [
    {
     "name": "stdout",
     "output_type": "stream",
     "text": [
      "+--------+---+------+----+\n",
      "|    NAME|AGE|SALARY|ROLE|\n",
      "+--------+---+------+----+\n",
      "|simhadri| 22|400000|   A|\n",
      "|  sriram| 20|500000|   B|\n",
      "|  sravya| 28|540000|   A|\n",
      "|  chandu| 30|500000|   B|\n",
      "|  chakri|  3|600000|   C|\n",
      "|     ram| 13|500000|   A|\n",
      "|   nanda| 32|450000|   A|\n",
      "|    raju| 27|700000|   C|\n",
      "+--------+---+------+----+\n",
      "\n"
     ]
    }
   ],
   "source": [
    "df=spark.read.csv(\"C:/Users/anil.nagamunthala/Documents/simple.csv\",header=True,inferSchema=True)\n",
    "df.show()"
   ]
  },
  {
   "cell_type": "code",
   "execution_count": 3,
   "metadata": {},
   "outputs": [
    {
     "name": "stdout",
     "output_type": "stream",
     "text": [
      "root\n",
      " |-- NAME: string (nullable = true)\n",
      " |-- AGE: integer (nullable = true)\n",
      " |-- SALARY: integer (nullable = true)\n",
      " |-- ROLE: string (nullable = true)\n",
      "\n"
     ]
    }
   ],
   "source": [
    "df.printSchema()"
   ]
  },
  {
   "cell_type": "markdown",
   "metadata": {},
   "source": [
    "### Filtering"
   ]
  },
  {
   "cell_type": "code",
   "execution_count": 6,
   "metadata": {},
   "outputs": [
    {
     "name": "stdout",
     "output_type": "stream",
     "text": [
      "+------+---+------+----+\n",
      "|  NAME|AGE|SALARY|ROLE|\n",
      "+------+---+------+----+\n",
      "|chakri|  3|600000|   C|\n",
      "|  raju| 27|700000|   C|\n",
      "+------+---+------+----+\n",
      "\n"
     ]
    }
   ],
   "source": [
    "df.filter(df['SALARY'] > 550000).show()"
   ]
  },
  {
   "cell_type": "code",
   "execution_count": 9,
   "metadata": {},
   "outputs": [
    {
     "name": "stdout",
     "output_type": "stream",
     "text": [
      "+----+\n",
      "|NAME|\n",
      "+----+\n",
      "|raju|\n",
      "+----+\n",
      "\n"
     ]
    }
   ],
   "source": [
    "#we want column wise\n",
    "df.filter(df['SALARY'] > 650000).select('NAME').show()"
   ]
  },
  {
   "cell_type": "code",
   "execution_count": 14,
   "metadata": {},
   "outputs": [
    {
     "name": "stdout",
     "output_type": "stream",
     "text": [
      "+------+---+------+----+\n",
      "|  NAME|AGE|SALARY|ROLE|\n",
      "+------+---+------+----+\n",
      "|sriram| 20|500000|   B|\n",
      "|sravya| 28|540000|   A|\n",
      "|chandu| 30|500000|   B|\n",
      "|   ram| 13|500000|   A|\n",
      "| nanda| 32|450000|   A|\n",
      "+------+---+------+----+\n",
      "\n"
     ]
    }
   ],
   "source": [
    "df.filter((df['SALARY'] > 400000) & (df['SALARY'] < 550000)).show()"
   ]
  },
  {
   "cell_type": "markdown",
   "metadata": {},
   "source": [
    "### group by and aggregate function\n"
   ]
  },
  {
   "cell_type": "code",
   "execution_count": 19,
   "metadata": {},
   "outputs": [
    {
     "name": "stdout",
     "output_type": "stream",
     "text": [
      "+----+-----+\n",
      "|ROLE|count|\n",
      "+----+-----+\n",
      "|   B|    2|\n",
      "|   C|    2|\n",
      "|   A|    4|\n",
      "+----+-----+\n",
      "\n"
     ]
    }
   ],
   "source": [
    "df.groupBy('ROLE').count().show()"
   ]
  },
  {
   "cell_type": "code",
   "execution_count": 20,
   "metadata": {},
   "outputs": [
    {
     "name": "stdout",
     "output_type": "stream",
     "text": [
      "+----+--------+-----------+\n",
      "|ROLE|max(AGE)|max(SALARY)|\n",
      "+----+--------+-----------+\n",
      "|   B|      30|     500000|\n",
      "|   C|      27|     700000|\n",
      "|   A|      32|     540000|\n",
      "+----+--------+-----------+\n",
      "\n"
     ]
    }
   ],
   "source": [
    "df.groupBy('ROLE').max().show()"
   ]
  },
  {
   "cell_type": "code",
   "execution_count": 23,
   "metadata": {},
   "outputs": [
    {
     "name": "stdout",
     "output_type": "stream",
     "text": [
      "+----+-----------+\n",
      "|ROLE|sum(SALARY)|\n",
      "+----+-----------+\n",
      "|   B|    1000000|\n",
      "|   C|    1300000|\n",
      "|   A|    1890000|\n",
      "+----+-----------+\n",
      "\n"
     ]
    }
   ],
   "source": [
    "df.groupBy('ROLE').sum('SALARY').show()"
   ]
  },
  {
   "cell_type": "code",
   "execution_count": null,
   "metadata": {},
   "outputs": [],
   "source": []
  }
 ],
 "metadata": {
  "kernelspec": {
   "display_name": "spark",
   "language": "python",
   "name": "python3"
  },
  "language_info": {
   "codemirror_mode": {
    "name": "ipython",
    "version": 3
   },
   "file_extension": ".py",
   "mimetype": "text/x-python",
   "name": "python",
   "nbconvert_exporter": "python",
   "pygments_lexer": "ipython3",
   "version": "3.12.0"
  }
 },
 "nbformat": 4,
 "nbformat_minor": 2
}
