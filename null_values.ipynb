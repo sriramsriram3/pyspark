{
 "cells": [
  {
   "cell_type": "code",
   "execution_count": 1,
   "metadata": {},
   "outputs": [],
   "source": [
    "from pyspark.sql import SparkSession\n",
    "spark=SparkSession.builder.appName('simple').getOrCreate()"
   ]
  },
  {
   "cell_type": "code",
   "execution_count": 5,
   "metadata": {},
   "outputs": [
    {
     "name": "stdout",
     "output_type": "stream",
     "text": [
      "+--------+----+------+\n",
      "|    NAME| AGE|salary|\n",
      "+--------+----+------+\n",
      "|simhadri|  22|400000|\n",
      "|  sriram|NULL|500000|\n",
      "|  sravya|  28|  NULL|\n",
      "|  chandu|  30|500000|\n",
      "|  chakri|   3|600000|\n",
      "|    NULL|  13|  NULL|\n",
      "|   nanda|NULL|  NULL|\n",
      "|    NULL|NULL|700000|\n",
      "+--------+----+------+\n",
      "\n"
     ]
    }
   ],
   "source": [
    "df=spark.read.csv(\"C:/Users/anil.nagamunthala/Documents/simple.csv\",header=True,inferSchema=True)\n",
    "df.show()"
   ]
  },
  {
   "cell_type": "code",
   "execution_count": 6,
   "metadata": {},
   "outputs": [
    {
     "name": "stdout",
     "output_type": "stream",
     "text": [
      "+--------+----+------+\n",
      "|    NAME| AGE|salary|\n",
      "+--------+----+------+\n",
      "|simhadri|  22|400000|\n",
      "|  sriram|NULL|500000|\n",
      "|  sravya|  28|  NULL|\n",
      "|  chandu|  30|500000|\n",
      "|  chakri|   3|600000|\n",
      "|simhadri|  13|  NULL|\n",
      "|   nanda|NULL|  NULL|\n",
      "|simhadri|NULL|700000|\n",
      "+--------+----+------+\n",
      "\n"
     ]
    }
   ],
   "source": [
    "#show the null values\n",
    "df.na.fill('simhadri').show()"
   ]
  },
  {
   "cell_type": "code",
   "execution_count": 11,
   "metadata": {},
   "outputs": [
    {
     "name": "stdout",
     "output_type": "stream",
     "text": [
      "+--------+---+------+\n",
      "|    NAME|AGE|salary|\n",
      "+--------+---+------+\n",
      "|simhadri| 22|400000|\n",
      "|  sriram|  0|500000|\n",
      "|  sravya| 28|     0|\n",
      "|  chandu| 30|500000|\n",
      "|  chakri|  3|600000|\n",
      "|    nill| 13|     0|\n",
      "|   nanda|  0|     0|\n",
      "|    nill|  0|700000|\n",
      "+--------+---+------+\n",
      "\n"
     ]
    }
   ],
   "source": [
    "df.na.fill({'NAME':'nill','AGE':0,'salary':0}).show()"
   ]
  },
  {
   "cell_type": "code",
   "execution_count": 12,
   "metadata": {},
   "outputs": [
    {
     "name": "stdout",
     "output_type": "stream",
     "text": [
      "+--------+---+------+\n",
      "|    NAME|AGE|salary|\n",
      "+--------+---+------+\n",
      "|simhadri| 22|400000|\n",
      "|  chandu| 30|500000|\n",
      "|  chakri|  3|600000|\n",
      "+--------+---+------+\n",
      "\n"
     ]
    }
   ],
   "source": [
    "#droping null values\n",
    "df.na.drop().show()"
   ]
  },
  {
   "cell_type": "code",
   "execution_count": 16,
   "metadata": {},
   "outputs": [
    {
     "name": "stdout",
     "output_type": "stream",
     "text": [
      "+--------+----+------+\n",
      "|    NAME| AGE|salary|\n",
      "+--------+----+------+\n",
      "|simhadri|  22|400000|\n",
      "|  sriram|NULL|500000|\n",
      "|  sravya|  28|  NULL|\n",
      "|  chandu|  30|500000|\n",
      "|  chakri|   3|600000|\n",
      "|    NULL|  13|  NULL|\n",
      "|   nanda|NULL|  NULL|\n",
      "|    NULL|NULL|700000|\n",
      "+--------+----+------+\n",
      "\n"
     ]
    }
   ],
   "source": [
    "df.na.drop(how='all',thresh=1).show()"
   ]
  },
  {
   "cell_type": "code",
   "execution_count": 19,
   "metadata": {},
   "outputs": [
    {
     "name": "stdout",
     "output_type": "stream",
     "text": [
      "+--------+----+------+\n",
      "|    NAME| AGE|salary|\n",
      "+--------+----+------+\n",
      "|simhadri|  22|400000|\n",
      "|  sriram|NULL|500000|\n",
      "|  sravya|  28|  NULL|\n",
      "|  chandu|  30|500000|\n",
      "|  chakri|   3|600000|\n",
      "|   nanda|NULL|  NULL|\n",
      "+--------+----+------+\n",
      "\n"
     ]
    }
   ],
   "source": [
    "df.na.drop(how='any',subset=['NAME']).show()"
   ]
  },
  {
   "cell_type": "markdown",
   "metadata": {},
   "source": [
    "Imputations\n"
   ]
  },
  {
   "cell_type": "code",
   "execution_count": 25,
   "metadata": {},
   "outputs": [
    {
     "name": "stdout",
     "output_type": "stream",
     "text": [
      "+--------+----+------+---------+------------+\n",
      "|    NAME| AGE|salary|AGE_impte|salary_impte|\n",
      "+--------+----+------+---------+------------+\n",
      "|simhadri|  22|400000|       22|      400000|\n",
      "|  sriram|NULL|500000|       22|      500000|\n",
      "|  sravya|  28|  NULL|       28|      500000|\n",
      "|  chandu|  30|500000|       30|      500000|\n",
      "|  chakri|   3|600000|        3|      600000|\n",
      "|    NULL|  13|  NULL|       13|      500000|\n",
      "|   nanda|NULL|  NULL|       22|      500000|\n",
      "|    NULL|NULL|700000|       22|      700000|\n",
      "+--------+----+------+---------+------------+\n",
      "\n"
     ]
    }
   ],
   "source": [
    "from pyspark.ml.feature import Imputer\n",
    "impute=Imputer(\n",
    "    inputCols=['AGE','salary'],\n",
    "    outputCols=[\"{}_impte\".format(c) for c in ['AGE','salary']],\n",
    "    strategy='median'\n",
    ")\n",
    "\n",
    "impute.fit(df).transform(df).show()"
   ]
  },
  {
   "cell_type": "code",
   "execution_count": null,
   "metadata": {},
   "outputs": [],
   "source": []
  }
 ],
 "metadata": {
  "kernelspec": {
   "display_name": "spark",
   "language": "python",
   "name": "python3"
  },
  "language_info": {
   "codemirror_mode": {
    "name": "ipython",
    "version": 3
   },
   "file_extension": ".py",
   "mimetype": "text/x-python",
   "name": "python",
   "nbconvert_exporter": "python",
   "pygments_lexer": "ipython3",
   "version": "3.12.0"
  }
 },
 "nbformat": 4,
 "nbformat_minor": 2
}
