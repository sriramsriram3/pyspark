{
 "cells": [
  {
   "cell_type": "code",
   "execution_count": 2,
   "metadata": {},
   "outputs": [],
   "source": [
    "from pyspark.sql import SparkSession\n",
    "spark=SparkSession.builder.appName('mllib').getOrCreate()"
   ]
  },
  {
   "cell_type": "code",
   "execution_count": 5,
   "metadata": {},
   "outputs": [
    {
     "name": "stdout",
     "output_type": "stream",
     "text": [
      "+--------+--------+--------+--------+-----+\n",
      "|feature1|feature2|feature3|feature4|label|\n",
      "+--------+--------+--------+--------+-----+\n",
      "|       1|       2|       3|       4|  1.5|\n",
      "|       2|       3|       4|       5|  2.1|\n",
      "|       3|       4|       5|       6|  2.9|\n",
      "|       4|       5|       6|       7|  3.3|\n",
      "|       5|       6|       7|       8|  3.8|\n",
      "|       6|       7|       8|       9|  4.4|\n",
      "|       7|       8|       9|      10|  4.9|\n",
      "|       8|       9|      10|      11|  5.2|\n",
      "|       9|      10|      11|      12|  5.7|\n",
      "|      10|      11|      12|      13|  6.0|\n",
      "+--------+--------+--------+--------+-----+\n",
      "\n"
     ]
    }
   ],
   "source": [
    "df=spark.read.csv(\"C:/Users/anil.nagamunthala/Downloads/multi_feature_regression.csv\",header=True,inferSchema=True)\n",
    "df.show()"
   ]
  },
  {
   "cell_type": "code",
   "execution_count": 6,
   "metadata": {},
   "outputs": [
    {
     "data": {
      "text/plain": [
       "['feature1', 'feature2', 'feature3', 'feature4', 'label']"
      ]
     },
     "execution_count": 6,
     "metadata": {},
     "output_type": "execute_result"
    }
   ],
   "source": [
    "df.columns"
   ]
  },
  {
   "cell_type": "code",
   "execution_count": 8,
   "metadata": {},
   "outputs": [],
   "source": [
    "from pyspark.ml.feature import VectorAssembler\n",
    "from pyspark.ml.regression import LinearRegression\n",
    "from pyspark.ml.evaluation import RegressionEvaluator\n"
   ]
  },
  {
   "cell_type": "code",
   "execution_count": 9,
   "metadata": {},
   "outputs": [],
   "source": [
    "features=VectorAssembler(inputCols=['feature1', 'feature2', 'feature3', 'feature4'],\n",
    "                         outputCol='independent_features')\n"
   ]
  },
  {
   "cell_type": "code",
   "execution_count": 13,
   "metadata": {},
   "outputs": [],
   "source": [
    "final_df=features.transform(df).select(['independent_features','label'])"
   ]
  },
  {
   "cell_type": "code",
   "execution_count": 14,
   "metadata": {},
   "outputs": [
    {
     "name": "stdout",
     "output_type": "stream",
     "text": [
      "+--------------------+-----+\n",
      "|independent_features|label|\n",
      "+--------------------+-----+\n",
      "|   [1.0,2.0,3.0,4.0]|  1.5|\n",
      "|   [2.0,3.0,4.0,5.0]|  2.1|\n",
      "|   [3.0,4.0,5.0,6.0]|  2.9|\n",
      "|   [4.0,5.0,6.0,7.0]|  3.3|\n",
      "|   [5.0,6.0,7.0,8.0]|  3.8|\n",
      "|   [6.0,7.0,8.0,9.0]|  4.4|\n",
      "|  [7.0,8.0,9.0,10.0]|  4.9|\n",
      "| [8.0,9.0,10.0,11.0]|  5.2|\n",
      "|[9.0,10.0,11.0,12.0]|  5.7|\n",
      "|[10.0,11.0,12.0,1...|  6.0|\n",
      "+--------------------+-----+\n",
      "\n"
     ]
    }
   ],
   "source": [
    "final_df.show()"
   ]
  },
  {
   "cell_type": "code",
   "execution_count": 15,
   "metadata": {},
   "outputs": [],
   "source": [
    "train,test=final_df.randomSplit([0.7,0.3])"
   ]
  },
  {
   "cell_type": "code",
   "execution_count": 21,
   "metadata": {},
   "outputs": [],
   "source": [
    "model=LinearRegression(featuresCol='independent_features',labelCol='label')\n",
    "lr=model.fit(final_df)"
   ]
  },
  {
   "cell_type": "code",
   "execution_count": 29,
   "metadata": {},
   "outputs": [],
   "source": [
    "y_pred=lr.evaluate(test)\n"
   ]
  },
  {
   "cell_type": "code",
   "execution_count": 30,
   "metadata": {},
   "outputs": [
    {
     "data": {
      "text/plain": [
       "(0.14863636363636207, 0.025385032139577, 0.9860665346746748)"
      ]
     },
     "execution_count": 30,
     "metadata": {},
     "output_type": "execute_result"
    },
    {
     "ename": "",
     "evalue": "",
     "output_type": "error",
     "traceback": [
      "\u001b[1;31mThe Kernel crashed while executing code in the current cell or a previous cell. \n",
      "\u001b[1;31mPlease review the code in the cell(s) to identify a possible cause of the failure. \n",
      "\u001b[1;31mClick <a href='https://aka.ms/vscodeJupyterKernelCrash'>here</a> for more info. \n",
      "\u001b[1;31mView Jupyter <a href='command:jupyter.viewOutput'>log</a> for further details."
     ]
    }
   ],
   "source": [
    "y_pred.meanAbsoluteError,y_pred.meanSquaredError,y_pred.r2"
   ]
  },
  {
   "cell_type": "code",
   "execution_count": null,
   "metadata": {},
   "outputs": [],
   "source": []
  }
 ],
 "metadata": {
  "kernelspec": {
   "display_name": "spark",
   "language": "python",
   "name": "python3"
  },
  "language_info": {
   "codemirror_mode": {
    "name": "ipython",
    "version": 3
   },
   "file_extension": ".py",
   "mimetype": "text/x-python",
   "name": "python",
   "nbconvert_exporter": "python",
   "pygments_lexer": "ipython3",
   "version": "3.12.0"
  }
 },
 "nbformat": 4,
 "nbformat_minor": 2
}
